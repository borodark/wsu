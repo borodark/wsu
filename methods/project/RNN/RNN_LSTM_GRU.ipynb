{
 "cells": [
  {
   "cell_type": "markdown",
   "metadata": {},
   "source": [
    "## Finansial Time Series Forecasting using Artificial Neural Networks"
   ]
  },
  {
   "cell_type": "markdown",
   "metadata": {},
   "source": [
    "### Importing the dataset\n",
    "The daily Open/Higth/Low/Close data for the stock of American Airlines Group Inc (NASDAQ: AAL) ( and  Reliance Industries Limited - (NSE: RELIANCE) is used in this forecast research.\n",
    "The dropna() function is used to drop the missing values. Only the Open/Higth/Low/Close data are used while dataset also contains the Date, Adjusted Close and Volume data."
   ]
  },
  {
   "cell_type": "code",
   "execution_count": 14,
   "metadata": {},
   "outputs": [],
   "source": [
    "#import all libraries\n",
    "import numpy as np\n",
    "import pandas as pd\n",
    "import math\n",
    "import sklearn\n",
    "import sklearn.preprocessing\n",
    "import datetime\n",
    "import os\n",
    "import matplotlib.pyplot as plt\n",
    "import tensorflow as tf\n",
    "from IPython.display import Image"
   ]
  },
  {
   "cell_type": "code",
   "execution_count": 25,
   "metadata": {},
   "outputs": [
    {
     "name": "stdout",
     "output_type": "stream",
     "text": [
      "         Date    Low   High  Close   Open\n",
      "9  2005-10-10  22.10  22.29  22.21  22.28\n",
      "8  2005-10-07  21.80  22.60  22.15  22.25\n",
      "7  2005-10-06  22.40  23.00  22.58  22.60\n",
      "6  2005-10-05  21.75  22.31  22.20  22.10\n",
      "5  2005-10-04  21.44  22.50  22.16  21.44\n",
      "4  2005-10-03  20.90  21.75  21.50  20.90\n",
      "3  2005-09-30  20.18  21.05  21.01  20.26\n",
      "2  2005-09-29  20.10  20.58  20.21  20.40\n",
      "1  2005-09-28  19.20  20.53  20.50  19.30\n",
      "0  2005-09-27  19.10  21.40  19.30  21.05\n",
      "    Open   High    Low  Close\n",
      "0  21.05  21.40  19.10  19.30\n",
      "1  19.30  20.53  19.20  20.50\n",
      "2  20.40  20.58  20.10  20.21\n",
      "3  20.26  21.05  20.18  21.01\n",
      "4  20.90  21.75  20.90  21.50\n",
      "5  21.44  22.50  21.44  22.16\n",
      "6  22.10  22.31  21.75  22.20\n",
      "7  22.60  23.00  22.40  22.58\n",
      "8  22.25  22.60  21.80  22.15\n",
      "9  22.28  22.29  22.10  22.21\n",
      "Dataset shape =  (3393, 4)\n"
     ]
    }
   ],
   "source": [
    "# import dataset \n",
    "dataset = pd.read_csv('stock_market_data-AAL.csv', index_col = 0)\n",
    "df_stock = dataset.copy()\n",
    "print(df_stock[3383:])\n",
    "df_stock = df_stock.dropna().sort_values(by=['Date'])\n",
    "df_stock = df_stock[['Open', 'High', 'Low', 'Close']]\n",
    "print(df_stock[:10])\n",
    "print('Dataset shape = ',df_stock.shape)"
   ]
  },
  {
   "cell_type": "markdown",
   "metadata": {},
   "source": [
    "### Standardizing the dataset\n",
    "The process makes the *mean of all the input features equal to zero* and *variance to 1* therefore there is *no bias* while training the model because of the different scales of all input features.\n",
    "\n",
    "Without scaling the neural network might get confused and give a higher weight to those features which have a higher average value than others. Another reason is that most common activation functions of the network’s neurons such as `tanh` or `sigmoid` are defined on the [-1, 1] or [0, 1] interval respectively. \n",
    "\n",
    "The _rectified linear unit_, also known as `ReLU`, activations are commonly used activations which are unbounded on the axis of possible activation values. However, we will scale both the inputs and targets. The scaling is performed using sklearn’s `MinMaxScaler`."
   ]
  },
  {
   "cell_type": "code",
   "execution_count": 31,
   "metadata": {},
   "outputs": [
    {
     "name": "stdout",
     "output_type": "stream",
     "text": [
      "          Open      High       Low     Close\n",
      "0     0.315980  0.316297  0.291495  0.286648\n",
      "1     0.287239  0.302090  0.293146  0.306259\n",
      "2     0.305305  0.302907  0.308010  0.301520\n",
      "3     0.303005  0.310581  0.309331  0.314594\n",
      "4     0.313516  0.322012  0.321222  0.322602\n",
      "5     0.322385  0.334259  0.330140  0.333388\n",
      "6     0.333224  0.331156  0.335260  0.334042\n",
      "7     0.341435  0.342423  0.345995  0.340252\n",
      "8     0.335687  0.335892  0.336086  0.333224\n",
      "9     0.336180  0.330830  0.341040  0.334205\n",
      "10    0.335852  0.330993  0.336086  0.330446\n",
      "11    0.329939  0.326911  0.333443  0.326851\n",
      "12    0.326655  0.322828  0.329480  0.326034\n",
      "13    0.329118  0.332626  0.336912  0.335185\n",
      "14    0.334045  0.329686  0.336912  0.332080\n",
      "15    0.332567  0.330993  0.328654  0.322438\n",
      "16    0.321235  0.319562  0.320396  0.320641\n",
      "17    0.320907  0.317603  0.320396  0.314757\n",
      "18    0.315487  0.332952  0.323039  0.330119\n",
      "19    0.331746  0.331973  0.338563  0.335839\n",
      "20    0.335687  0.334912  0.334434  0.330773\n",
      "21    0.331582  0.333442  0.339224  0.336003\n",
      "22    0.335852  0.335238  0.342692  0.339925\n",
      "23    0.340614  0.357120  0.345500  0.361824\n",
      "24    0.364428  0.380797  0.372419  0.374571\n",
      "25    0.375924  0.376388  0.383815  0.380127\n",
      "26    0.384628  0.425702  0.392238  0.421474\n",
      "27    0.423551  0.425702  0.431874  0.426704\n",
      "28    0.426835  0.440398  0.434682  0.441902\n",
      "29    0.446543  0.447420  0.444756  0.444027\n",
      "...        ...       ...       ...       ...\n",
      "3363  0.569059  0.566133  0.569612  0.562347\n",
      "3364  0.558220  0.558459  0.560528  0.559569\n",
      "3365  0.562818  0.566416  0.571924  0.569211\n",
      "3366  0.573986  0.573808  0.565153  0.555483\n",
      "3367  0.558712  0.562266  0.567465  0.563000\n",
      "3368  0.560026  0.563276  0.565153  0.561366\n",
      "3369  0.565446  0.560255  0.553427  0.544043\n",
      "3370  0.545574  0.553070  0.554088  0.550907\n",
      "3371  0.545081  0.542293  0.550289  0.544207\n",
      "3372  0.544753  0.546702  0.551197  0.542899\n",
      "3373  0.545081  0.547355  0.554088  0.551234\n",
      "3374  0.557399  0.560906  0.565153  0.557934\n",
      "3375  0.559862  0.566541  0.566474  0.563654\n",
      "3376  0.563311  0.560091  0.558515  0.554502\n",
      "3377  0.555428  0.552907  0.556893  0.553522\n",
      "3378  0.554607  0.554050  0.543683  0.537343\n",
      "3379  0.541140  0.536577  0.529315  0.522308\n",
      "3380  0.529151  0.528250  0.523865  0.514300\n",
      "3381  0.515848  0.512492  0.513047  0.506619\n",
      "3382  0.507308  0.500816  0.498228  0.497794\n",
      "3383  0.494170  0.491264  0.494137  0.492728\n",
      "3384  0.489900  0.493795  0.497440  0.495016\n",
      "3385  0.498933  0.492489  0.486045  0.476548\n",
      "3386  0.483002  0.488161  0.488026  0.491584\n",
      "3387  0.495155  0.497061  0.502560  0.496323\n",
      "3388  0.500411  0.495101  0.494880  0.484883\n",
      "3389  0.487601  0.482528  0.488522  0.484066\n",
      "3390  0.487601  0.491346  0.494302  0.487498\n",
      "3391  0.487601  0.482038  0.484228  0.477202\n",
      "3392  0.477583  0.485630  0.484558  0.485210\n",
      "\n",
      "[3393 rows x 4 columns]\n"
     ]
    }
   ],
   "source": [
    "def normalize_data(df):\n",
    "    min_max_scaler = sklearn.preprocessing.MinMaxScaler()\n",
    "    df['Open'] = min_max_scaler.fit_transform(df.Open.values.reshape(-1,1))\n",
    "    df['High'] = min_max_scaler.fit_transform(df.High.values.reshape(-1,1))\n",
    "    df['Low'] = min_max_scaler.fit_transform(df.Low.values.reshape(-1,1))\n",
    "    df['Close'] = min_max_scaler.fit_transform(df['Close'].values.reshape(-1,1))\n",
    "    return df\n",
    "df_stock_norm = df_stock.copy()\n",
    "df_stock_norm = normalize_data(df_stock_norm)\n",
    "print(df_stock_norm)"
   ]
  },
  {
   "cell_type": "markdown",
   "metadata": {},
   "source": [
    "### Splitting the dataset into Training and Testing: building X & Y\n",
    "The whole dataset is split into train, valid and test data. \n",
    "The result is: `x_train`, `y_train`, `x_valid`, `y_valid`, `x_test` and `y_test`. This is a crucial part."
   ]
  },
  {
   "cell_type": "code",
   "execution_count": 32,
   "metadata": {},
   "outputs": [
    {
     "name": "stdout",
     "output_type": "stream",
     "text": [
      "x_train.shape =  (2699, 19, 4)\n",
      "y_train.shape =  (2699, 4)\n",
      "x_valid.shape =  (337, 19, 4)\n",
      "y_valid.shape =  (337, 4)\n",
      "x_test.shape =  (337, 19, 4)\n",
      "y_test.shape =  (337, 4)\n"
     ]
    }
   ],
   "source": [
    "# Splitting the dataset into Train, Valid & test data \n",
    "valid_set_size_percentage = 10 \n",
    "test_set_size_percentage = 10 \n",
    "seq_len = 20 # taken sequence length as 20\n",
    "def load_data(stock, seq_len):\n",
    "    data_raw = stock.values\n",
    "    data = [] \n",
    "    for index in range(len(data_raw) - seq_len): \n",
    "        data.append(data_raw[index: index + seq_len])\n",
    "    data = np.array(data);\n",
    "    valid_set_size = int(np.round(valid_set_size_percentage/100*data.shape[0]));  \n",
    "    test_set_size = int(np.round(test_set_size_percentage/100*data.shape[0]));\n",
    "    train_set_size = data.shape[0] - (valid_set_size + test_set_size);\n",
    "    x_train = data[:train_set_size,:-1,:]\n",
    "    y_train = data[:train_set_size,-1,:]\n",
    "    x_valid = data[train_set_size:train_set_size+valid_set_size,:-1,:]\n",
    "    y_valid = data[train_set_size:train_set_size+valid_set_size,-1,:]\n",
    "    x_test = data[train_set_size+valid_set_size:,:-1,:]\n",
    "    y_test = data[train_set_size+valid_set_size:,-1,:]\n",
    "    return [x_train, y_train, x_valid, y_valid, x_test, y_test]\n",
    "\n",
    "x_train, y_train, x_valid, y_valid, x_test, y_test = load_data(df_stock_norm, seq_len)\n",
    "print('x_train.shape = ',x_train.shape)\n",
    "print('y_train.shape = ', y_train.shape)\n",
    "print('x_valid.shape = ',x_valid.shape)\n",
    "print('y_valid.shape = ', y_valid.shape)\n",
    "print('x_test.shape = ', x_test.shape)\n",
    "print('y_test.shape = ',y_test.shape)"
   ]
  },
  {
   "cell_type": "markdown",
   "metadata": {},
   "source": [
    "Our total data set is 3393.\n",
    "\n",
    "So the first 19 data points are x_train.\n",
    "\n",
    "The next 2699 data points are y_train out of which last 19 data points are x_valid.\n",
    "\n",
    "The next 337 data points are y_valid out of which last 19 data are x_test.\n",
    "\n",
    "Finally, the next and last 337 data points are y_test.\n"
   ]
  },
  {
   "cell_type": "markdown",
   "metadata": {},
   "source": [
    "### Building the Model\n",
    "The code supports four different models – Basic RNN Cell, Basic LSTM Cell, LSTM Cell with peephole connections and GRU cell. This notebook is desined to run one model at a time.\n",
    "\n",
    "#### Parameters, Placeholders & Variables\n",
    "We will first fix the Parameters, Placeholders & Variables to building any model. The Artificial Neural Network starts with placeholders. We need two placeholders in order to fit our model: X contains the network’s inputs (features of the stock (OHLC) at time _T = t_) and Y the network’s output: _Price of the stock at T+1_. The shape of the placeholders corresponds to [None, n_inputs] with [None] meaning that the inputs are a 2-dimensional matrix and the outputs are a 1-dimensional vector. The crucial part is to properly define the input and output dimensions so the neural net in order to design it properly. \n",
    "The variable batch size is 50. It controls the number of observations per training batch. The training is stopped when epoch reaches 100. The 100 epochs is our parameter."
   ]
  },
  {
   "cell_type": "code",
   "execution_count": 33,
   "metadata": {},
   "outputs": [],
   "source": [
    "## Building the Model\n",
    "# parameters & Placeholders \n",
    "n_steps = seq_len-1 \n",
    "n_inputs = 4 \n",
    "n_neurons = 200 \n",
    "n_outputs = 4\n",
    "n_layers = 2\n",
    "learning_rate = 0.001\n",
    "batch_size = 50\n",
    "n_epochs = 100 \n",
    "train_set_size = x_train.shape[0]\n",
    "test_set_size = x_test.shape[0]\n",
    "tf.reset_default_graph()\n",
    "X = tf.placeholder(tf.float32, [None, n_steps, n_inputs])\n",
    "y = tf.placeholder(tf.float32, [None, n_outputs])"
   ]
  },
  {
   "cell_type": "markdown",
   "metadata": {},
   "source": [
    "### Designing the network architecture\n",
    "The function `get_next_batch` runs the next batch for any model . Then we will write the layers for each model separately."
   ]
  },
  {
   "cell_type": "code",
   "execution_count": 34,
   "metadata": {},
   "outputs": [],
   "source": [
    "# function to get the next batch\n",
    "index_in_epoch = 0;\n",
    "perm_array  = np.arange(x_train.shape[0])\n",
    "np.random.shuffle(perm_array)\n",
    "\n",
    "def get_next_batch(batch_size):\n",
    "    global index_in_epoch, x_train, perm_array   \n",
    "    start = index_in_epoch\n",
    "    index_in_epoch += batch_size \n",
    "    if index_in_epoch > x_train.shape[0]:\n",
    "        np.random.shuffle(perm_array) # shuffle permutation array\n",
    "        start = 0 # start next epoch\n",
    "        index_in_epoch = batch_size     \n",
    "    end = index_in_epoch\n",
    "    return x_train[perm_array[start:end]], y_train[perm_array[start:end]]"
   ]
  },
  {
   "cell_type": "markdown",
   "metadata": {},
   "source": [
    "Let's run the model using RNN basic."
   ]
  },
  {
   "cell_type": "code",
   "execution_count": 35,
   "metadata": {},
   "outputs": [
    {
     "name": "stdout",
     "output_type": "stream",
     "text": [
      "\n",
      "WARNING: The TensorFlow contrib module will not be included in TensorFlow 2.0.\n",
      "For more information, please see:\n",
      "  * https://github.com/tensorflow/community/blob/master/rfcs/20180907-contrib-sunset.md\n",
      "  * https://github.com/tensorflow/addons\n",
      "If you depend on functionality not listed there, please file an issue.\n",
      "\n",
      "WARNING:tensorflow:From <ipython-input-35-dd5421e7050a>:3: BasicRNNCell.__init__ (from tensorflow.python.ops.rnn_cell_impl) is deprecated and will be removed in a future version.\n",
      "Instructions for updating:\n",
      "This class is equivalent as tf.keras.layers.SimpleRNNCell, and will be replaced by that in Tensorflow 2.0.\n",
      "WARNING:tensorflow:From <ipython-input-35-dd5421e7050a>:17: MultiRNNCell.__init__ (from tensorflow.python.ops.rnn_cell_impl) is deprecated and will be removed in a future version.\n",
      "Instructions for updating:\n",
      "This class is equivalent as tf.keras.layers.StackedRNNCells, and will be replaced by that in Tensorflow 2.0.\n",
      "WARNING:tensorflow:From <ipython-input-35-dd5421e7050a>:18: dynamic_rnn (from tensorflow.python.ops.rnn) is deprecated and will be removed in a future version.\n",
      "Instructions for updating:\n",
      "Please use `keras.layers.RNN(cell)`, which is equivalent to this API\n",
      "WARNING:tensorflow:From /Users/iostaptchenko/projects/secret/wsu/ds/lib/python3.7/site-packages/tensorflow/python/ops/tensor_array_ops.py:162: colocate_with (from tensorflow.python.framework.ops) is deprecated and will be removed in a future version.\n",
      "Instructions for updating:\n",
      "Colocations handled automatically by placer.\n",
      "WARNING:tensorflow:From <ipython-input-35-dd5421e7050a>:20: dense (from tensorflow.python.layers.core) is deprecated and will be removed in a future version.\n",
      "Instructions for updating:\n",
      "Use keras.layers.dense instead.\n"
     ]
    }
   ],
   "source": [
    "#RNN \n",
    "layers = [tf.contrib.rnn.BasicRNNCell(num_units=n_neurons, activation=tf.nn.elu)\n",
    "         for layer in range(n_layers)]\n",
    "# LSTM  \n",
    "#layers = [tf.contrib.rnn.BasicLSTMCell(num_units=n_neurons, activation=tf.nn.elu)\n",
    "#        for layer in range(n_layers)]\n",
    "\n",
    "#LSTM with peephole connections\n",
    "#layers = [tf.contrib.rnn.LSTMCell(num_units=n_neurons, \n",
    "#                                  activation=tf.nn.leaky_relu, use_peepholes = True)\n",
    "#          for layer in range(n_layers)]\n",
    "\n",
    "#GRU \n",
    "#layers = [tf.contrib.rnn.GRUCell(num_units=n_neurons, activation=tf.nn.leaky_relu)\n",
    "#          for layer in range(n_layers)] \n",
    "                                                                  \n",
    "multi_layer_cell = tf.contrib.rnn.MultiRNNCell(layers)\n",
    "rnn_outputs, states = tf.nn.dynamic_rnn(multi_layer_cell, X, dtype=tf.float32)\n",
    "stacked_rnn_outputs = tf.reshape(rnn_outputs, [-1, n_neurons]) \n",
    "stacked_outputs = tf.layers.dense(stacked_rnn_outputs, n_outputs)\n",
    "outputs = tf.reshape(stacked_outputs, [-1, n_steps, n_outputs])\n",
    "outputs = outputs[:,n_steps-1,:] # keep only last output of sequence"
   ]
  },
  {
   "cell_type": "markdown",
   "metadata": {},
   "source": [
    "### Cost function\n",
    "This is the cost function to optimize the model. The cost function is used to generate a measure of deviation between the network’s predictions and the actual observed training targets. For regression problems, the _mean squared error_ (`MSE`) function is commonly used. `MSE` computes the average squared deviation between predictions and targets."
   ]
  },
  {
   "cell_type": "code",
   "execution_count": 36,
   "metadata": {},
   "outputs": [],
   "source": [
    "# Cost function\n",
    "loss = tf.reduce_mean(tf.square(outputs - y))"
   ]
  },
  {
   "cell_type": "markdown",
   "metadata": {},
   "source": [
    "### Optimizer\n",
    "The optimizer takes care of the necessary computations that are used to adapt the network’s weight and bias variables during training. Those computations invoke the _calculation of gradients_ that indicate the direction in which the _weights and biases have to be changed_ during training in order to minimize the network’s cost function. The development of stable and speedy optimizers is a *major field in neural network and deep learning research*."
   ]
  },
  {
   "cell_type": "code",
   "execution_count": 37,
   "metadata": {},
   "outputs": [],
   "source": [
    "#optimizer\n",
    "optimizer = tf.train.AdamOptimizer(learning_rate=learning_rate) \n",
    "training_op = optimizer.minimize(loss)"
   ]
  },
  {
   "cell_type": "markdown",
   "metadata": {},
   "source": [
    "In this model we use Adam (Adaptive Moment Estimation) Optimizer, which is an extension of the stochastic gradient descent, is one of the default optimizers in deep learning development."
   ]
  },
  {
   "cell_type": "markdown",
   "metadata": {},
   "source": [
    "### Fitting the neural network model & prediction\n",
    "Now we need to fit the model that we have created to our train datasets. After having defined the placeholders, variables, initializers, cost functions and optimizers of the network, the model needs to be trained. Usually, this is done by mini batch training. During mini batch training random data samples of n = batch_size are drawn from the training data and fed into the network.\n",
    "\n",
    "The training dataset gets divided into n / batch_size batches that are sequentially fed into the network. At this point the placeholders X and Y come into play. They store the input and target data and present them to the network as inputs and targets.\n",
    "\n",
    "A sampled data batch of X flows through the network until it reaches the output layer. There, TensorFlow compares the model’s predictions against the actual observed targets Y in the current batch. Afterwards, TensorFlow conducts an optimization step and updates the network parameters, corresponding to the selected learning scheme. After having updated the weights and biases, the next batch is sampled and the process repeats itself.\n",
    "\n",
    "The procedure continues until all batches have been presented to the network. One full sweep over all batches is called an epoch.\n",
    "\n",
    "The training of the network stops once the maximum number of epochs is reached or another stopping criterion defined by the user applies. We stop the training network when epoch reaches 100 as we have given epoch as 100 in our parameter."
   ]
  },
  {
   "cell_type": "code",
   "execution_count": 38,
   "metadata": {},
   "outputs": [
    {
     "name": "stdout",
     "output_type": "stream",
     "text": [
      "0.00 epochs: MSE train/valid = 0.281718/0.430836\n",
      "4.98 epochs: MSE train/valid = 0.000284/0.000306\n",
      "9.97 epochs: MSE train/valid = 0.000329/0.000477\n",
      "14.95 epochs: MSE train/valid = 0.000206/0.000264\n",
      "19.93 epochs: MSE train/valid = 0.000149/0.000174\n",
      "24.92 epochs: MSE train/valid = 0.000145/0.000181\n",
      "29.90 epochs: MSE train/valid = 0.000154/0.000209\n",
      "34.88 epochs: MSE train/valid = 0.000132/0.000157\n",
      "39.87 epochs: MSE train/valid = 0.000124/0.000156\n",
      "44.85 epochs: MSE train/valid = 0.000128/0.000156\n",
      "49.83 epochs: MSE train/valid = 0.000138/0.000183\n",
      "54.82 epochs: MSE train/valid = 0.000259/0.000441\n",
      "59.80 epochs: MSE train/valid = 0.000127/0.000155\n",
      "64.78 epochs: MSE train/valid = 0.000133/0.000223\n",
      "69.77 epochs: MSE train/valid = 0.000135/0.000208\n",
      "74.75 epochs: MSE train/valid = 0.000195/0.000357\n",
      "79.73 epochs: MSE train/valid = 0.000132/0.000161\n",
      "84.72 epochs: MSE train/valid = 0.000118/0.000172\n",
      "89.70 epochs: MSE train/valid = 0.000112/0.000146\n",
      "94.68 epochs: MSE train/valid = 0.000121/0.000162\n",
      "99.67 epochs: MSE train/valid = 0.000141/0.000227\n"
     ]
    }
   ],
   "source": [
    "# Fitting the model\n",
    "with tf.Session() as sess: \n",
    "    sess.run(tf.global_variables_initializer())\n",
    "    for iteration in range(int(n_epochs*train_set_size/batch_size)):\n",
    "        x_batch, y_batch = get_next_batch(batch_size) # fetch the next training batch \n",
    "        sess.run(training_op, feed_dict={X: x_batch, y: y_batch}) \n",
    "        if iteration % int(5*train_set_size/batch_size) == 0:\n",
    "            mse_train = loss.eval(feed_dict={X: x_train, y: y_train}) \n",
    "            mse_valid = loss.eval(feed_dict={X: x_valid, y: y_valid}) \n",
    "            print('%.2f epochs: MSE train/valid = %.6f/%.6f'%(\n",
    "                iteration*batch_size/train_set_size, mse_train, mse_valid))\n",
    "# Predictions\n",
    "    y_test_pred = sess.run(outputs, feed_dict={X: x_test})\n"
   ]
  },
  {
   "cell_type": "markdown",
   "metadata": {},
   "source": [
    "Now we have predicted the stock prices and saved as y_test_pred. We can compare these predicted stock prices with our target stock prices which is y_test. Just to check no of output, I run the below code and its 337 which is matching with y_test data."
   ]
  },
  {
   "cell_type": "code",
   "execution_count": 40,
   "metadata": {},
   "outputs": [
    {
     "data": {
      "text/plain": [
       "(337, 4)"
      ]
     },
     "execution_count": 40,
     "metadata": {},
     "output_type": "execute_result"
    }
   ],
   "source": [
    "#checking prediction output nos \n",
    "y_test_pred.shape"
   ]
  },
  {
   "cell_type": "markdown",
   "metadata": {},
   "source": [
    "Let’s compare between our target and prediction. I put both target (y_test) & prediction (y_test_pred) closing price in one data frame named as “comp”. Now I put both prices in one graph, let see how it looks."
   ]
  },
  {
   "cell_type": "code",
   "execution_count": 41,
   "metadata": {},
   "outputs": [
    {
     "data": {
      "image/png": "[encoded data removed]",
      "text/plain": [
       "<Figure size 720x360 with 1 Axes>"
      ]
     },
     "metadata": {
      "needs_background": "light"
     },
     "output_type": "display_data"
    }
   ],
   "source": [
    "# ploting the graph\n",
    "comp = pd.DataFrame({'Column1':y_test[:,3],'Column2':y_test_pred[:,3]})\n",
    "plt.figure(figsize=(10,5))\n",
    "plt.plot(comp['Column1'], color='blue', label='Target')\n",
    "plt.plot(comp['Column2'], color='black', label='Prediction')\n",
    "plt.legend()\n",
    "plt.show()"
   ]
  },
  {
   "cell_type": "markdown",
   "metadata": {},
   "source": [
    "Now we can see, the results are not bad. The prediction values are exactly the same as the target value and moving in the same direction as we expect. You can check the difference between these two and compare the results in various ways & optimize the model before you build your trading strategy."
   ]
  },
  {
   "cell_type": "markdown",
   "metadata": {},
   "source": [
    "### Conclusion\n",
    "The objective of this project is to make you understand how to build different neural network model like RNN, LSTM & GRU in python tensor flow and predicting stock price. You can optimize this model in various ways and build your own trading strategy to get a good strategy return considering Hit Ratio, draw down etc.\n",
    "\n",
    "Another important factor, we have used daily prices in this model so the data points are really less only 5,640 data points. My advice is to use more than 100,000 data points (use minute or tick data) for training the model when you are building Artificial Neural Network or any other Deep Learning model that will be most effective.\n",
    "\n",
    "Now you can build your own trading strategy using the power and intelligence of your machines."
   ]
  }
 ],
 "metadata": {
  "kernelspec": {
   "display_name": "Python 3",
   "language": "python",
   "name": "python3"
  },
  "language_info": {
   "codemirror_mode": {
    "name": "ipython",
    "version": 3
   },
   "file_extension": ".py",
   "mimetype": "text/x-python",
   "name": "python",
   "nbconvert_exporter": "python",
   "pygments_lexer": "ipython3",
   "version": "3.7.2"
  }
 },
 "nbformat": 4,
 "nbformat_minor": 2
}
